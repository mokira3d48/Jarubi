{
 "cells": [
  {
   "cell_type": "code",
   "execution_count": 7,
   "id": "1f6c8b1c-7ee6-40dd-a9a9-381d8044b3f8",
   "metadata": {},
   "outputs": [
    {
     "name": "stdout",
     "output_type": "stream",
     "text": [
      "Looking in indexes: https://download.pytorch.org/whl/cpu\n",
      "Requirement already satisfied: torch in /home/mokira3d48/Documents/notebooks/env/lib/python3.10/site-packages (2.4.1+cpu)\n",
      "Requirement already satisfied: torchvision in /home/mokira3d48/Documents/notebooks/env/lib/python3.10/site-packages (0.19.1+cpu)\n",
      "Requirement already satisfied: torchaudio in /home/mokira3d48/Documents/notebooks/env/lib/python3.10/site-packages (2.4.1+cpu)\n",
      "Requirement already satisfied: filelock in /home/mokira3d48/Documents/notebooks/env/lib/python3.10/site-packages (from torch) (3.13.1)\n",
      "Requirement already satisfied: fsspec in /home/mokira3d48/Documents/notebooks/env/lib/python3.10/site-packages (from torch) (2024.2.0)\n",
      "Requirement already satisfied: sympy in /home/mokira3d48/Documents/notebooks/env/lib/python3.10/site-packages (from torch) (1.12)\n",
      "Requirement already satisfied: jinja2 in /home/mokira3d48/Documents/notebooks/env/lib/python3.10/site-packages (from torch) (3.1.3)\n",
      "Requirement already satisfied: typing-extensions>=4.8.0 in /home/mokira3d48/Documents/notebooks/env/lib/python3.10/site-packages (from torch) (4.9.0)\n",
      "Requirement already satisfied: networkx in /home/mokira3d48/Documents/notebooks/env/lib/python3.10/site-packages (from torch) (3.2.1)\n",
      "Requirement already satisfied: numpy in /home/mokira3d48/Documents/notebooks/env/lib/python3.10/site-packages (from torchvision) (1.26.3)\n",
      "Requirement already satisfied: pillow!=8.3.*,>=5.3.0 in /home/mokira3d48/Documents/notebooks/env/lib/python3.10/site-packages (from torchvision) (10.2.0)\n",
      "Requirement already satisfied: MarkupSafe>=2.0 in /home/mokira3d48/Documents/notebooks/env/lib/python3.10/site-packages (from jinja2->torch) (2.1.5)\n",
      "Requirement already satisfied: mpmath>=0.19 in /home/mokira3d48/Documents/notebooks/env/lib/python3.10/site-packages (from sympy->torch) (1.3.0)\n",
      "Requirement already satisfied: numpy in /home/mokira3d48/Documents/notebooks/env/lib/python3.10/site-packages (1.26.3)\n",
      "Requirement already satisfied: matplotlib in /home/mokira3d48/Documents/notebooks/env/lib/python3.10/site-packages (3.9.2)\n",
      "Requirement already satisfied: scipy in /home/mokira3d48/Documents/notebooks/env/lib/python3.10/site-packages (1.14.1)\n",
      "Requirement already satisfied: librosa in /home/mokira3d48/Documents/notebooks/env/lib/python3.10/site-packages (0.10.2.post1)\n",
      "Requirement already satisfied: num2words==0.5.13 in /home/mokira3d48/Documents/notebooks/env/lib/python3.10/site-packages (0.5.13)\n",
      "Requirement already satisfied: tqdm==4.66.1 in /home/mokira3d48/Documents/notebooks/env/lib/python3.10/site-packages (4.66.1)\n",
      "Requirement already satisfied: docopt>=0.6.2 in /home/mokira3d48/Documents/notebooks/env/lib/python3.10/site-packages (from num2words==0.5.13) (0.6.2)\n",
      "Requirement already satisfied: contourpy>=1.0.1 in /home/mokira3d48/Documents/notebooks/env/lib/python3.10/site-packages (from matplotlib) (1.3.0)\n",
      "Requirement already satisfied: pyparsing>=2.3.1 in /home/mokira3d48/Documents/notebooks/env/lib/python3.10/site-packages (from matplotlib) (3.1.4)\n",
      "Requirement already satisfied: cycler>=0.10 in /home/mokira3d48/Documents/notebooks/env/lib/python3.10/site-packages (from matplotlib) (0.12.1)\n",
      "Requirement already satisfied: packaging>=20.0 in /home/mokira3d48/Documents/notebooks/env/lib/python3.10/site-packages (from matplotlib) (24.1)\n",
      "Requirement already satisfied: python-dateutil>=2.7 in /home/mokira3d48/Documents/notebooks/env/lib/python3.10/site-packages (from matplotlib) (2.9.0.post0)\n",
      "Requirement already satisfied: fonttools>=4.22.0 in /home/mokira3d48/Documents/notebooks/env/lib/python3.10/site-packages (from matplotlib) (4.54.1)\n",
      "Requirement already satisfied: pillow>=8 in /home/mokira3d48/Documents/notebooks/env/lib/python3.10/site-packages (from matplotlib) (10.2.0)\n",
      "Requirement already satisfied: kiwisolver>=1.3.1 in /home/mokira3d48/Documents/notebooks/env/lib/python3.10/site-packages (from matplotlib) (1.4.7)\n",
      "Requirement already satisfied: typing-extensions>=4.1.1 in /home/mokira3d48/Documents/notebooks/env/lib/python3.10/site-packages (from librosa) (4.9.0)\n",
      "Requirement already satisfied: msgpack>=1.0 in /home/mokira3d48/Documents/notebooks/env/lib/python3.10/site-packages (from librosa) (1.1.0)\n",
      "Requirement already satisfied: soxr>=0.3.2 in /home/mokira3d48/Documents/notebooks/env/lib/python3.10/site-packages (from librosa) (0.5.0.post1)\n",
      "Requirement already satisfied: scikit-learn>=0.20.0 in /home/mokira3d48/Documents/notebooks/env/lib/python3.10/site-packages (from librosa) (1.5.2)\n",
      "Requirement already satisfied: decorator>=4.3.0 in /home/mokira3d48/Documents/notebooks/env/lib/python3.10/site-packages (from librosa) (5.1.1)\n",
      "Requirement already satisfied: lazy-loader>=0.1 in /home/mokira3d48/Documents/notebooks/env/lib/python3.10/site-packages (from librosa) (0.4)\n",
      "Requirement already satisfied: joblib>=0.14 in /home/mokira3d48/Documents/notebooks/env/lib/python3.10/site-packages (from librosa) (1.4.2)\n",
      "Requirement already satisfied: pooch>=1.1 in /home/mokira3d48/Documents/notebooks/env/lib/python3.10/site-packages (from librosa) (1.8.2)\n",
      "Requirement already satisfied: soundfile>=0.12.1 in /home/mokira3d48/Documents/notebooks/env/lib/python3.10/site-packages (from librosa) (0.12.1)\n",
      "Requirement already satisfied: audioread>=2.1.9 in /home/mokira3d48/Documents/notebooks/env/lib/python3.10/site-packages (from librosa) (3.0.1)\n",
      "Requirement already satisfied: numba>=0.51.0 in /home/mokira3d48/Documents/notebooks/env/lib/python3.10/site-packages (from librosa) (0.60.0)\n",
      "Requirement already satisfied: llvmlite<0.44,>=0.43.0dev0 in /home/mokira3d48/Documents/notebooks/env/lib/python3.10/site-packages (from numba>=0.51.0->librosa) (0.43.0)\n",
      "Requirement already satisfied: requests>=2.19.0 in /home/mokira3d48/Documents/notebooks/env/lib/python3.10/site-packages (from pooch>=1.1->librosa) (2.32.3)\n",
      "Requirement already satisfied: platformdirs>=2.5.0 in /home/mokira3d48/Documents/notebooks/env/lib/python3.10/site-packages (from pooch>=1.1->librosa) (4.3.6)\n",
      "Requirement already satisfied: six>=1.5 in /home/mokira3d48/Documents/notebooks/env/lib/python3.10/site-packages (from python-dateutil>=2.7->matplotlib) (1.16.0)\n",
      "Requirement already satisfied: threadpoolctl>=3.1.0 in /home/mokira3d48/Documents/notebooks/env/lib/python3.10/site-packages (from scikit-learn>=0.20.0->librosa) (3.5.0)\n",
      "Requirement already satisfied: cffi>=1.0 in /home/mokira3d48/Documents/notebooks/env/lib/python3.10/site-packages (from soundfile>=0.12.1->librosa) (1.17.1)\n",
      "Requirement already satisfied: pycparser in /home/mokira3d48/Documents/notebooks/env/lib/python3.10/site-packages (from cffi>=1.0->soundfile>=0.12.1->librosa) (2.22)\n",
      "Requirement already satisfied: certifi>=2017.4.17 in /home/mokira3d48/Documents/notebooks/env/lib/python3.10/site-packages (from requests>=2.19.0->pooch>=1.1->librosa) (2024.8.30)\n",
      "Requirement already satisfied: charset-normalizer<4,>=2 in /home/mokira3d48/Documents/notebooks/env/lib/python3.10/site-packages (from requests>=2.19.0->pooch>=1.1->librosa) (3.4.0)\n",
      "Requirement already satisfied: urllib3<3,>=1.21.1 in /home/mokira3d48/Documents/notebooks/env/lib/python3.10/site-packages (from requests>=2.19.0->pooch>=1.1->librosa) (2.2.3)\n",
      "Requirement already satisfied: idna<4,>=2.5 in /home/mokira3d48/Documents/notebooks/env/lib/python3.10/site-packages (from requests>=2.19.0->pooch>=1.1->librosa) (3.10)\n"
     ]
    }
   ],
   "source": [
    "!pip install torch torchvision torchaudio --index-url https://download.pytorch.org/whl/cpu\n",
    "!pip install numpy matplotlib scipy librosa num2words==0.5.13 tqdm==4.66.1"
   ]
  },
  {
   "cell_type": "code",
   "execution_count": 1,
   "id": "5b572b6b-fc06-46df-91ac-7c5c657cb815",
   "metadata": {},
   "outputs": [
    {
     "name": "stdout",
     "output_type": "stream",
     "text": [
      "ERROR! Session/line number was not unique in database. History logging moved to new session 36\n"
     ]
    }
   ],
   "source": [
    "import os\n",
    "import matplotlib.pyplot as plt\n",
    "import librosa"
   ]
  },
  {
   "cell_type": "code",
   "execution_count": 2,
   "id": "d7809a1d-a0d3-41ec-affc-614394c3afe5",
   "metadata": {},
   "outputs": [],
   "source": [
    "AUDIO_FILE_SAMPLE = 'samples/lesmis_0001.wav'\n",
    "TEXT_FILE_SAMPLE = 'samples/transcription.txt'"
   ]
  },
  {
   "cell_type": "markdown",
   "id": "923d809a-8d9c-463e-acc9-880fe9f17743",
   "metadata": {},
   "source": [
    "### Traitement de texte"
   ]
  },
  {
   "cell_type": "code",
   "execution_count": 23,
   "id": "31dbc36c-5a8d-4138-bb4c-778d8868b4ea",
   "metadata": {},
   "outputs": [],
   "source": [
    "def read_text(file_path):\n",
    "    with open(file_path, mode='r', encoding='utf-8') as file:\n",
    "        return file.read()"
   ]
  },
  {
   "cell_type": "markdown",
   "id": "edd78e45-3fcc-44b3-9d96-213d74dbf9d7",
   "metadata": {},
   "source": [
    "### Traitement du song"
   ]
  },
  {
   "cell_type": "code",
   "execution_count": 3,
   "id": "f238db43-532f-404a-b580-ce20c7fa5d4b",
   "metadata": {},
   "outputs": [],
   "source": [
    "def read_audio_signal(file_path, sample_rate=44100):\n",
    "    assert file_path, \"The file path is not defined.\"\n",
    "    assert sample_rate, \"The sample rate is not defined.\"\n",
    "    if not os.path.isfile(file_path):\n",
    "        raise FileNotFoundError(f\"No such audio file at {file_path}\")\n",
    "    signal, _ = librosa.load(file_path, sr=sample_rate, mono=False)\n",
    "    return signal"
   ]
  },
  {
   "cell_type": "code",
   "execution_count": 4,
   "id": "dfe4ab7f-8a1a-45d5-8ae0-a59f1faa708f",
   "metadata": {},
   "outputs": [
    {
     "name": "stdout",
     "output_type": "stream",
     "text": [
      "(336600,)\n"
     ]
    }
   ],
   "source": [
    "signal_sample = read_audio_signal(AUDIO_FILE_SAMPLE)\n",
    "print(signal_sample.shape)"
   ]
  },
  {
   "cell_type": "code",
   "execution_count": 5,
   "id": "3cd3ff2a-cec1-4577-ab1f-eaa7c16fcf33",
   "metadata": {},
   "outputs": [],
   "source": [
    "def show_audio_signal(signal):\n",
    "    assert len(signal) > 0, \"Signal values are not defined\"\n",
    "    plt.figure()\n",
    "    plt.plot(signal)\n",
    "    plt.title(\"Audio signal\")\n",
    "    plt.show()"
   ]
  },
  {
   "cell_type": "code",
   "execution_count": 6,
   "id": "8b7c9b25-7db1-480a-8605-03df1fbc648b",
   "metadata": {},
   "outputs": [
    {
     "data": {
      "image/png": "[encoded data removed]",
      "text/plain": [
       "<Figure size 640x480 with 1 Axes>"
      ]
     },
     "metadata": {},
     "output_type": "display_data"
    }
   ],
   "source": [
    "show_audio_signal(signal_sample)"
   ]
  },
  {
   "cell_type": "code",
   "execution_count": 19,
   "id": "c2a5f789-cf02-45ba-8165-5f1d94b7cb64",
   "metadata": {},
   "outputs": [],
   "source": [
    "import numpy as np\n",
    "from scipy.signal import get_window\n",
    "from librosa.util import normalize, pad_center\n",
    "\n",
    "def window_sum_square(window, n_frames, hop_length=200, win_length=800,\n",
    "                      n_fft=800, dtype=np.float32, norm=None):\n",
    "    \"\"\"\n",
    "    Compute the sum-square envelope of a window function\n",
    "    at a given hop length.\n",
    "\n",
    "    This is used to estimate modulation effects induced by windowing\n",
    "    observations in short-time fourier transforms.\n",
    "\n",
    "    :param window: Window specification, as in `get_window`.\n",
    "    :param n_frames: The number of analysis frames.\n",
    "    :param hop_length: The number of samples to advance between frames.\n",
    "    :param win_length: The length of the window function.\n",
    "        By default, this matches `n_fft`.\n",
    "    :param n_fft: The length of each analysis frame.\n",
    "    :param dtype: The data type of the output.\n",
    "    \n",
    "    :return: The sum-squared envelope of the window function.\n",
    "        shape: `(n_fft + hop_length * (n_frames - 1))`.\n",
    "    :rtype: `np.ndarray`\n",
    "    \"\"\"\n",
    "    if win_length is None:\n",
    "        win_length = n_fft\n",
    "    n = n_fft + hop_length * (n_frames - 1)\n",
    "    x = np.zeros(n, dtype=dtype)\n",
    "\n",
    "    # Compute the squared window at the desired length\n",
    "    win_sq = get_window(window, win_length, fftbins=True)\n",
    "    win_sq = normalize(win_sq, norm=norm)**2\n",
    "    win_sq = pad_center(win_sq, size=n_fft)\n",
    "\n",
    "    # Fill the develope\n",
    "    for i in range(n_frames):\n",
    "        sample = i * hop_length\n",
    "        min_val1 = min(n, sample + n_fft)\n",
    "        min_val2 = min(n_fft, n - sample)\n",
    "        x[sample:min_val1] += win_sq[:max(0, min_val2)]\n",
    "    return x"
   ]
  },
  {
   "cell_type": "code",
   "execution_count": 20,
   "id": "e8f1117a-2142-4a10-8fe7-7e00bd5b5afe",
   "metadata": {},
   "outputs": [],
   "source": [
    "import torch\n",
    "import numpy as np\n",
    "import torch.nn.functional as F\n",
    "from torch.autograd import Variable\n",
    "from scipy.signal import get_window\n",
    "from librosa.util import pad_center, tiny\n",
    "\n",
    "\n",
    "class STFT(torch.nn.Module):\n",
    "    \"\"\"adapted from Prem Seetharaman's https://github.com/pseeth/pytorch-stft\"\"\"\n",
    "    def __init__(self, filter_length=800, hop_length=200, win_length=800,\n",
    "                 window='hann'):\n",
    "        super(STFT, self).__init__()\n",
    "        self.filter_length = filter_length\n",
    "        self.hop_length = hop_length\n",
    "        self.win_length = win_length\n",
    "        self.window = window\n",
    "        self.forward_transform = None\n",
    "        scale = self.filter_length / self.hop_length\n",
    "        fourier_basis = np.fft.fft(np.eye(self.filter_length))\n",
    "\n",
    "        cutoff = int((self.filter_length / 2 + 1))\n",
    "        fourier_basis = np.vstack([np.real(fourier_basis[:cutoff, :]),\n",
    "                                   np.imag(fourier_basis[:cutoff, :])])\n",
    "\n",
    "        forward_basis = torch.FloatTensor(fourier_basis[:, None, :])\n",
    "        inverse_basis = torch.FloatTensor(\n",
    "            np.linalg.pinv(scale * fourier_basis).T[:, None, :])\n",
    "\n",
    "        if window is not None:\n",
    "            assert(filter_length >= win_length)\n",
    "            # get window and zero center pad it to filter_length\n",
    "            fft_window = get_window(window, win_length, fftbins=True)\n",
    "            fft_window = pad_center(fft_window, size=filter_length)\n",
    "            fft_window = torch.from_numpy(fft_window).float()\n",
    "\n",
    "            # window the bases\n",
    "            forward_basis *= fft_window\n",
    "            inverse_basis *= fft_window\n",
    "\n",
    "        self.register_buffer('forward_basis', forward_basis.float())\n",
    "        self.register_buffer('inverse_basis', inverse_basis.float())\n",
    "\n",
    "    def transform(self, input_data):\n",
    "        num_batches = input_data.size(0)\n",
    "        num_samples = input_data.size(1)\n",
    "\n",
    "        self.num_samples = num_samples\n",
    "\n",
    "        # similar to librosa, reflect-pad the input\n",
    "        input_data = input_data.view(num_batches, 1, num_samples)\n",
    "        input_data = F.pad(\n",
    "            input_data.unsqueeze(1),\n",
    "            (int(self.filter_length / 2), int(self.filter_length / 2), 0, 0),\n",
    "            mode='reflect')\n",
    "        input_data = input_data.squeeze(1)\n",
    "\n",
    "        forward_transform = F.conv1d(\n",
    "            input_data,\n",
    "            Variable(self.forward_basis, requires_grad=False),\n",
    "            stride=self.hop_length,\n",
    "            padding=0)\n",
    "\n",
    "        cutoff = int((self.filter_length / 2) + 1)\n",
    "        real_part = forward_transform[:, :cutoff, :]\n",
    "        imag_part = forward_transform[:, cutoff:, :]\n",
    "\n",
    "        magnitude = torch.sqrt(real_part**2 + imag_part**2)\n",
    "        phase = torch.autograd.Variable(\n",
    "            torch.atan2(imag_part.data, real_part.data))\n",
    "\n",
    "        return magnitude, phase\n",
    "\n",
    "    def inverse(self, magnitude, phase):\n",
    "        recombine_magnitude_phase = torch.cat(\n",
    "            [magnitude*torch.cos(phase), magnitude*torch.sin(phase)], dim=1)\n",
    "\n",
    "        inverse_transform = F.conv_transpose1d(\n",
    "            recombine_magnitude_phase,\n",
    "            Variable(self.inverse_basis, requires_grad=False),\n",
    "            stride=self.hop_length,\n",
    "            padding=0)\n",
    "\n",
    "        if self.window is not None:\n",
    "            window_sum = window_sumsquare(\n",
    "                self.window, magnitude.size(-1), hop_length=self.hop_length,\n",
    "                win_length=self.win_length, n_fft=self.filter_length,\n",
    "                dtype=np.float32)\n",
    "            # remove modulation effects\n",
    "            approx_nonzero_indices = torch.from_numpy(\n",
    "                np.where(window_sum > tiny(window_sum))[0])\n",
    "            window_sum = torch.autograd.Variable(\n",
    "                torch.from_numpy(window_sum), requires_grad=False)\n",
    "            window_sum = window_sum.cuda() if magnitude.is_cuda else window_sum\n",
    "            inverse_transform[:, :, approx_nonzero_indices] /= window_sum[approx_nonzero_indices]\n",
    "\n",
    "            # scale by hop ratio\n",
    "            inverse_transform *= float(self.filter_length) / self.hop_length\n",
    "\n",
    "        inverse_transform = inverse_transform[:, :, int(self.filter_length/2):]\n",
    "        inverse_transform = inverse_transform[:, :, :-int(self.filter_length/2):]\n",
    "\n",
    "        return inverse_transform\n",
    "\n",
    "    def forward(self, input_data):\n",
    "        \"\"\"\n",
    "        Compute the transformation and its inverse.\n",
    "        \"\"\"\n",
    "        self.magnitude, self.phase = self.transform(input_data)\n",
    "        reconstruction = self.inverse(self.magnitude, self.phase)\n",
    "        return reconstruction"
   ]
  },
  {
   "cell_type": "code",
   "execution_count": 16,
   "id": "4b974251-2b9e-40cb-b7ee-f8affe275d63",
   "metadata": {},
   "outputs": [
    {
     "name": "stdout",
     "output_type": "stream",
     "text": [
      "torch.Size([1, 336600])\n"
     ]
    }
   ],
   "source": [
    "signal_reshape = np.reshape(signal_sample, (1, signal_sample.shape[0]))\n",
    "signal_reshape = torch.tensor(signal_reshape)\n",
    "print(signal_reshape.shape)"
   ]
  },
  {
   "cell_type": "code",
   "execution_count": 22,
   "id": "54f6dc53-3f18-4c80-b912-7a4693f85435",
   "metadata": {},
   "outputs": [
    {
     "name": "stdout",
     "output_type": "stream",
     "text": [
      "magnitude: torch.Size([1, 401, 1684])\n",
      "phase: torch.Size([1, 401, 1684])\n"
     ]
    }
   ],
   "source": [
    "stft_transformation = STFT()\n",
    "magnitude, phase = stft_transformation.transform(signal_reshape)\n",
    "print('magnitude:', magnitude.shape)\n",
    "print('phase:', phase.shape)"
   ]
  },
  {
   "cell_type": "code",
   "execution_count": null,
   "id": "a6f5ce9d-7625-40e7-916d-31a0b44d926c",
   "metadata": {},
   "outputs": [],
   "source": [
    "def plot_spectrum(spectrum):\n",
    "    # 3. Ploter le spectre\n",
    "    frequencies = list(range(spectrum.shape[0]))\n",
    "    plt.figure(figsize=(12, 6))\n",
    "    plt.plot(frequencies,   # Afficher seulement la moitié positive du spectre\n",
    "    plt.title('Magnitude Spectrum')\n",
    "    plt.xlabel('Fréquence (Hz)')\n",
    "    plt.ylabel('Magnitude')\n",
    "    plt.grid()\n",
    "    plt.xlim(0, spectrum.shape[0])  # Limiter l'axe des x à la moitié de la fréquence d'échantillonnage\n",
    "    plt.show()"
   ]
  }
 ],
 "metadata": {
  "kernelspec": {
   "display_name": "Python 3 (ipykernel)",
   "language": "python",
   "name": "python3"
  },
  "language_info": {
   "codemirror_mode": {
    "name": "ipython",
    "version": 3
   },
   "file_extension": ".py",
   "mimetype": "text/x-python",
   "name": "python",
   "nbconvert_exporter": "python",
   "pygments_lexer": "ipython3",
   "version": "3.10.12"
  }
 },
 "nbformat": 4,
 "nbformat_minor": 5
}
